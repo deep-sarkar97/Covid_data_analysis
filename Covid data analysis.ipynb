{
 "cells": [
  {
   "cell_type": "code",
   "execution_count": 1,
   "id": "28835492",
   "metadata": {},
   "outputs": [],
   "source": [
    "import numpy as np\n",
    "import pandas as pd\n",
    "import matplotlib.pyplot as plt\n",
    "import os\n",
    "import urllib"
   ]
  },
  {
   "cell_type": "code",
   "execution_count": 2,
   "id": "1832b2f8",
   "metadata": {},
   "outputs": [],
   "source": [
    "url=\"https://covid19.who.int/WHO-COVID-19-global-data.csv\"\n",
    "file_path=os.path.join(\"data\", \"covid\")"
   ]
  },
  {
   "cell_type": "code",
   "execution_count": 3,
   "id": "55f92b43",
   "metadata": {},
   "outputs": [
    {
     "data": {
      "text/plain": [
       "('data\\\\covid\\\\WHO-COVID-19-global-data.csv',\n",
       " <http.client.HTTPMessage at 0x26680d95bd0>)"
      ]
     },
     "execution_count": 3,
     "metadata": {},
     "output_type": "execute_result"
    }
   ],
   "source": [
    "os.makedirs(file_path, exist_ok=True)\n",
    "csv_path= os.path.join(file_path, \"WHO-COVID-19-global-data.csv\")\n",
    "urllib.request.urlretrieve(url,csv_path)"
   ]
  },
  {
   "cell_type": "code",
   "execution_count": 4,
   "id": "d4e7cc73",
   "metadata": {},
   "outputs": [
    {
     "data": {
      "text/html": [
       "<div>\n",
       "<style scoped>\n",
       "    .dataframe tbody tr th:only-of-type {\n",
       "        vertical-align: middle;\n",
       "    }\n",
       "\n",
       "    .dataframe tbody tr th {\n",
       "        vertical-align: top;\n",
       "    }\n",
       "\n",
       "    .dataframe thead th {\n",
       "        text-align: right;\n",
       "    }\n",
       "</style>\n",
       "<table border=\"1\" class=\"dataframe\">\n",
       "  <thead>\n",
       "    <tr style=\"text-align: right;\">\n",
       "      <th></th>\n",
       "      <th>Date_reported</th>\n",
       "      <th>Country_code</th>\n",
       "      <th>Country</th>\n",
       "      <th>WHO_region</th>\n",
       "      <th>New_cases</th>\n",
       "      <th>Cumulative_cases</th>\n",
       "      <th>New_deaths</th>\n",
       "      <th>Cumulative_deaths</th>\n",
       "    </tr>\n",
       "  </thead>\n",
       "  <tbody>\n",
       "    <tr>\n",
       "      <th>0</th>\n",
       "      <td>2020-01-03</td>\n",
       "      <td>AF</td>\n",
       "      <td>Afghanistan</td>\n",
       "      <td>EMRO</td>\n",
       "      <td>0</td>\n",
       "      <td>0</td>\n",
       "      <td>0</td>\n",
       "      <td>0</td>\n",
       "    </tr>\n",
       "    <tr>\n",
       "      <th>1</th>\n",
       "      <td>2020-01-04</td>\n",
       "      <td>AF</td>\n",
       "      <td>Afghanistan</td>\n",
       "      <td>EMRO</td>\n",
       "      <td>0</td>\n",
       "      <td>0</td>\n",
       "      <td>0</td>\n",
       "      <td>0</td>\n",
       "    </tr>\n",
       "    <tr>\n",
       "      <th>2</th>\n",
       "      <td>2020-01-05</td>\n",
       "      <td>AF</td>\n",
       "      <td>Afghanistan</td>\n",
       "      <td>EMRO</td>\n",
       "      <td>0</td>\n",
       "      <td>0</td>\n",
       "      <td>0</td>\n",
       "      <td>0</td>\n",
       "    </tr>\n",
       "    <tr>\n",
       "      <th>3</th>\n",
       "      <td>2020-01-06</td>\n",
       "      <td>AF</td>\n",
       "      <td>Afghanistan</td>\n",
       "      <td>EMRO</td>\n",
       "      <td>0</td>\n",
       "      <td>0</td>\n",
       "      <td>0</td>\n",
       "      <td>0</td>\n",
       "    </tr>\n",
       "    <tr>\n",
       "      <th>4</th>\n",
       "      <td>2020-01-07</td>\n",
       "      <td>AF</td>\n",
       "      <td>Afghanistan</td>\n",
       "      <td>EMRO</td>\n",
       "      <td>0</td>\n",
       "      <td>0</td>\n",
       "      <td>0</td>\n",
       "      <td>0</td>\n",
       "    </tr>\n",
       "  </tbody>\n",
       "</table>\n",
       "</div>"
      ],
      "text/plain": [
       "  Date_reported Country_code      Country WHO_region  New_cases  \\\n",
       "0    2020-01-03           AF  Afghanistan       EMRO          0   \n",
       "1    2020-01-04           AF  Afghanistan       EMRO          0   \n",
       "2    2020-01-05           AF  Afghanistan       EMRO          0   \n",
       "3    2020-01-06           AF  Afghanistan       EMRO          0   \n",
       "4    2020-01-07           AF  Afghanistan       EMRO          0   \n",
       "\n",
       "   Cumulative_cases  New_deaths  Cumulative_deaths  \n",
       "0                 0           0                  0  \n",
       "1                 0           0                  0  \n",
       "2                 0           0                  0  \n",
       "3                 0           0                  0  \n",
       "4                 0           0                  0  "
      ]
     },
     "execution_count": 4,
     "metadata": {},
     "output_type": "execute_result"
    }
   ],
   "source": [
    "df=pd.read_csv(csv_path)\n",
    "df.head()"
   ]
  },
  {
   "cell_type": "code",
   "execution_count": 5,
   "id": "1113a92d",
   "metadata": {},
   "outputs": [
    {
     "data": {
      "text/plain": [
       "865"
      ]
     },
     "execution_count": 5,
     "metadata": {},
     "output_type": "execute_result"
    }
   ],
   "source": [
    "len(df) - len(df.dropna())"
   ]
  },
  {
   "cell_type": "code",
   "execution_count": 6,
   "id": "c595b7ed",
   "metadata": {},
   "outputs": [],
   "source": [
    "df.dropna(inplace = True)"
   ]
  },
  {
   "cell_type": "code",
   "execution_count": 7,
   "id": "1e4fdc27",
   "metadata": {},
   "outputs": [
    {
     "data": {
      "text/html": [
       "<div>\n",
       "<style scoped>\n",
       "    .dataframe tbody tr th:only-of-type {\n",
       "        vertical-align: middle;\n",
       "    }\n",
       "\n",
       "    .dataframe tbody tr th {\n",
       "        vertical-align: top;\n",
       "    }\n",
       "\n",
       "    .dataframe thead th {\n",
       "        text-align: right;\n",
       "    }\n",
       "</style>\n",
       "<table border=\"1\" class=\"dataframe\">\n",
       "  <thead>\n",
       "    <tr style=\"text-align: right;\">\n",
       "      <th></th>\n",
       "      <th>New_cases</th>\n",
       "      <th>Cumulative_cases</th>\n",
       "      <th>New_deaths</th>\n",
       "      <th>Cumulative_deaths</th>\n",
       "    </tr>\n",
       "  </thead>\n",
       "  <tbody>\n",
       "    <tr>\n",
       "      <th>count</th>\n",
       "      <td>2.041400e+05</td>\n",
       "      <td>2.041400e+05</td>\n",
       "      <td>204140.000000</td>\n",
       "      <td>204140.000000</td>\n",
       "    </tr>\n",
       "    <tr>\n",
       "      <th>mean</th>\n",
       "      <td>2.542106e+03</td>\n",
       "      <td>6.549041e+05</td>\n",
       "      <td>30.676477</td>\n",
       "      <td>12081.182728</td>\n",
       "    </tr>\n",
       "    <tr>\n",
       "      <th>std</th>\n",
       "      <td>1.661462e+04</td>\n",
       "      <td>3.450659e+06</td>\n",
       "      <td>162.727623</td>\n",
       "      <td>55858.603754</td>\n",
       "    </tr>\n",
       "    <tr>\n",
       "      <th>min</th>\n",
       "      <td>-3.295200e+04</td>\n",
       "      <td>0.000000e+00</td>\n",
       "      <td>-2442.000000</td>\n",
       "      <td>0.000000</td>\n",
       "    </tr>\n",
       "    <tr>\n",
       "      <th>25%</th>\n",
       "      <td>0.000000e+00</td>\n",
       "      <td>2.210000e+02</td>\n",
       "      <td>0.000000</td>\n",
       "      <td>3.000000</td>\n",
       "    </tr>\n",
       "    <tr>\n",
       "      <th>50%</th>\n",
       "      <td>2.400000e+01</td>\n",
       "      <td>1.198100e+04</td>\n",
       "      <td>0.000000</td>\n",
       "      <td>158.000000</td>\n",
       "    </tr>\n",
       "    <tr>\n",
       "      <th>75%</th>\n",
       "      <td>5.080000e+02</td>\n",
       "      <td>1.754122e+05</td>\n",
       "      <td>6.000000</td>\n",
       "      <td>2853.000000</td>\n",
       "    </tr>\n",
       "    <tr>\n",
       "      <th>max</th>\n",
       "      <td>1.253115e+06</td>\n",
       "      <td>8.161887e+07</td>\n",
       "      <td>11447.000000</td>\n",
       "      <td>992289.000000</td>\n",
       "    </tr>\n",
       "  </tbody>\n",
       "</table>\n",
       "</div>"
      ],
      "text/plain": [
       "          New_cases  Cumulative_cases     New_deaths  Cumulative_deaths\n",
       "count  2.041400e+05      2.041400e+05  204140.000000      204140.000000\n",
       "mean   2.542106e+03      6.549041e+05      30.676477       12081.182728\n",
       "std    1.661462e+04      3.450659e+06     162.727623       55858.603754\n",
       "min   -3.295200e+04      0.000000e+00   -2442.000000           0.000000\n",
       "25%    0.000000e+00      2.210000e+02       0.000000           3.000000\n",
       "50%    2.400000e+01      1.198100e+04       0.000000         158.000000\n",
       "75%    5.080000e+02      1.754122e+05       6.000000        2853.000000\n",
       "max    1.253115e+06      8.161887e+07   11447.000000      992289.000000"
      ]
     },
     "execution_count": 7,
     "metadata": {},
     "output_type": "execute_result"
    }
   ],
   "source": [
    "df.describe()"
   ]
  },
  {
   "cell_type": "code",
   "execution_count": 8,
   "id": "a20af107",
   "metadata": {},
   "outputs": [
    {
     "data": {
      "text/plain": [
       "0"
      ]
     },
     "execution_count": 8,
     "metadata": {},
     "output_type": "execute_result"
    }
   ],
   "source": [
    "#Lets check for duplicates\n",
    "len(df)-len(df.drop_duplicates())"
   ]
  },
  {
   "cell_type": "code",
   "execution_count": 9,
   "id": "4cb9623b",
   "metadata": {},
   "outputs": [],
   "source": [
    "dm=df.groupby(['Country']).mean()"
   ]
  },
  {
   "cell_type": "code",
   "execution_count": 10,
   "id": "88a03ea1",
   "metadata": {},
   "outputs": [],
   "source": [
    "#Top 10 countries with most number of new cases"
   ]
  },
  {
   "cell_type": "code",
   "execution_count": 11,
   "id": "ebbf9e8e",
   "metadata": {},
   "outputs": [],
   "source": [
    "df1=dm.sort_values(by=['New_cases'], ascending=False).head(10)\n",
    "df2=dm.sort_values(by=['Cumulative_cases'], ascending=True).head(20)"
   ]
  },
  {
   "cell_type": "code",
   "execution_count": 12,
   "id": "292ecc4b",
   "metadata": {},
   "outputs": [
    {
     "data": {
      "text/html": [
       "<div>\n",
       "<style scoped>\n",
       "    .dataframe tbody tr th:only-of-type {\n",
       "        vertical-align: middle;\n",
       "    }\n",
       "\n",
       "    .dataframe tbody tr th {\n",
       "        vertical-align: top;\n",
       "    }\n",
       "\n",
       "    .dataframe thead th {\n",
       "        text-align: right;\n",
       "    }\n",
       "</style>\n",
       "<table border=\"1\" class=\"dataframe\">\n",
       "  <thead>\n",
       "    <tr style=\"text-align: right;\">\n",
       "      <th></th>\n",
       "      <th>New_cases</th>\n",
       "      <th>Cumulative_cases</th>\n",
       "      <th>New_deaths</th>\n",
       "      <th>Cumulative_deaths</th>\n",
       "    </tr>\n",
       "    <tr>\n",
       "      <th>Country</th>\n",
       "      <th></th>\n",
       "      <th></th>\n",
       "      <th></th>\n",
       "      <th></th>\n",
       "    </tr>\n",
       "  </thead>\n",
       "  <tbody>\n",
       "    <tr>\n",
       "      <th>United States of America</th>\n",
       "      <td>94357.070520</td>\n",
       "      <td>2.898065e+07</td>\n",
       "      <td>1147.154913</td>\n",
       "      <td>460237.060116</td>\n",
       "    </tr>\n",
       "    <tr>\n",
       "      <th>India</th>\n",
       "      <td>49854.105202</td>\n",
       "      <td>1.841722e+07</td>\n",
       "      <td>606.058960</td>\n",
       "      <td>239828.827746</td>\n",
       "    </tr>\n",
       "    <tr>\n",
       "      <th>Brazil</th>\n",
       "      <td>35470.628902</td>\n",
       "      <td>1.253032e+07</td>\n",
       "      <td>768.638150</td>\n",
       "      <td>327376.766474</td>\n",
       "    </tr>\n",
       "    <tr>\n",
       "      <th>France</th>\n",
       "      <td>32749.472832</td>\n",
       "      <td>6.029492e+06</td>\n",
       "      <td>166.493642</td>\n",
       "      <td>75466.657803</td>\n",
       "    </tr>\n",
       "    <tr>\n",
       "      <th>Germany</th>\n",
       "      <td>29748.153757</td>\n",
       "      <td>4.353868e+06</td>\n",
       "      <td>158.958382</td>\n",
       "      <td>62469.862428</td>\n",
       "    </tr>\n",
       "    <tr>\n",
       "      <th>The United Kingdom</th>\n",
       "      <td>25618.276301</td>\n",
       "      <td>5.879193e+06</td>\n",
       "      <td>204.734104</td>\n",
       "      <td>93792.906358</td>\n",
       "    </tr>\n",
       "    <tr>\n",
       "      <th>Russian Federation</th>\n",
       "      <td>21115.417341</td>\n",
       "      <td>5.384253e+06</td>\n",
       "      <td>436.715607</td>\n",
       "      <td>127279.220809</td>\n",
       "    </tr>\n",
       "    <tr>\n",
       "      <th>Republic of Korea</th>\n",
       "      <td>20572.667052</td>\n",
       "      <td>1.333856e+06</td>\n",
       "      <td>27.449711</td>\n",
       "      <td>3083.775723</td>\n",
       "    </tr>\n",
       "    <tr>\n",
       "      <th>Italy</th>\n",
       "      <td>19720.084393</td>\n",
       "      <td>3.920943e+06</td>\n",
       "      <td>191.033526</td>\n",
       "      <td>86692.310983</td>\n",
       "    </tr>\n",
       "    <tr>\n",
       "      <th>Turkey</th>\n",
       "      <td>17403.840462</td>\n",
       "      <td>4.626636e+06</td>\n",
       "      <td>114.335260</td>\n",
       "      <td>37968.354913</td>\n",
       "    </tr>\n",
       "  </tbody>\n",
       "</table>\n",
       "</div>"
      ],
      "text/plain": [
       "                             New_cases  Cumulative_cases   New_deaths  \\\n",
       "Country                                                                 \n",
       "United States of America  94357.070520      2.898065e+07  1147.154913   \n",
       "India                     49854.105202      1.841722e+07   606.058960   \n",
       "Brazil                    35470.628902      1.253032e+07   768.638150   \n",
       "France                    32749.472832      6.029492e+06   166.493642   \n",
       "Germany                   29748.153757      4.353868e+06   158.958382   \n",
       "The United Kingdom        25618.276301      5.879193e+06   204.734104   \n",
       "Russian Federation        21115.417341      5.384253e+06   436.715607   \n",
       "Republic of Korea         20572.667052      1.333856e+06    27.449711   \n",
       "Italy                     19720.084393      3.920943e+06   191.033526   \n",
       "Turkey                    17403.840462      4.626636e+06   114.335260   \n",
       "\n",
       "                          Cumulative_deaths  \n",
       "Country                                      \n",
       "United States of America      460237.060116  \n",
       "India                         239828.827746  \n",
       "Brazil                        327376.766474  \n",
       "France                         75466.657803  \n",
       "Germany                        62469.862428  \n",
       "The United Kingdom             93792.906358  \n",
       "Russian Federation            127279.220809  \n",
       "Republic of Korea               3083.775723  \n",
       "Italy                          86692.310983  \n",
       "Turkey                         37968.354913  "
      ]
     },
     "execution_count": 12,
     "metadata": {},
     "output_type": "execute_result"
    }
   ],
   "source": [
    "df1"
   ]
  },
  {
   "cell_type": "code",
   "execution_count": 13,
   "id": "db855f1e",
   "metadata": {},
   "outputs": [
    {
     "data": {
      "image/png": "[encoded data removed]",
      "text/plain": [
       "<Figure size 648x432 with 1 Axes>"
      ]
     },
     "metadata": {
      "needs_background": "light"
     },
     "output_type": "display_data"
    }
   ],
   "source": [
    "plt.figure(figsize=(9,6))\n",
    "plt.title('Vizualizing Covid Cases in top infected Countries')\n",
    "plt.plot(df1.New_cases)\n",
    "plt.xlabel('Countries')\n",
    "plt.xticks(rotation=90)\n",
    "plt.ylabel('New Cases')\n",
    "plt.grid()"
   ]
  },
  {
   "cell_type": "code",
   "execution_count": 14,
   "id": "64c37eb4",
   "metadata": {},
   "outputs": [
    {
     "data": {
      "image/png": "[encoded data removed]",
      "text/plain": [
       "<Figure size 648x432 with 1 Axes>"
      ]
     },
     "metadata": {
      "needs_background": "light"
     },
     "output_type": "display_data"
    }
   ],
   "source": [
    "plt.figure(figsize=(9,6))\n",
    "plt.title('Vizualizing Countries with lower covid cases')\n",
    "plt.plot(df2.Cumulative_cases)\n",
    "plt.xlabel('Countries')\n",
    "plt.xticks(rotation=90)\n",
    "plt.ylabel('New Cases')\n",
    "plt.grid()"
   ]
  },
  {
   "cell_type": "code",
   "execution_count": 15,
   "id": "4adc7d64",
   "metadata": {},
   "outputs": [
    {
     "data": {
      "text/plain": [
       "Index(['Date_reported', 'Country_code', 'Country', 'WHO_region', 'New_cases',\n",
       "       'Cumulative_cases', 'New_deaths', 'Cumulative_deaths'],\n",
       "      dtype='object')"
      ]
     },
     "execution_count": 15,
     "metadata": {},
     "output_type": "execute_result"
    }
   ],
   "source": [
    "df.columns"
   ]
  },
  {
   "cell_type": "code",
   "execution_count": 16,
   "id": "fdcaa914",
   "metadata": {},
   "outputs": [
    {
     "data": {
      "text/plain": [
       "Date_reported        object\n",
       "Country_code         object\n",
       "Country              object\n",
       "WHO_region           object\n",
       "New_cases             int64\n",
       "Cumulative_cases      int64\n",
       "New_deaths            int64\n",
       "Cumulative_deaths     int64\n",
       "dtype: object"
      ]
     },
     "execution_count": 16,
     "metadata": {},
     "output_type": "execute_result"
    }
   ],
   "source": [
    "df.dtypes"
   ]
  },
  {
   "cell_type": "code",
   "execution_count": 17,
   "id": "94d26f27",
   "metadata": {},
   "outputs": [],
   "source": [
    "df['Month'] = df['Date_reported'].str[5:7]\n",
    "df['Month'] = df['Month'].astype('int')"
   ]
  },
  {
   "cell_type": "code",
   "execution_count": 18,
   "id": "4ef28633",
   "metadata": {},
   "outputs": [],
   "source": [
    "dd=df.groupby(['Month']).mean()"
   ]
  },
  {
   "cell_type": "code",
   "execution_count": 19,
   "id": "e6786bd2",
   "metadata": {},
   "outputs": [
    {
     "data": {
      "text/html": [
       "<div>\n",
       "<style scoped>\n",
       "    .dataframe tbody tr th:only-of-type {\n",
       "        vertical-align: middle;\n",
       "    }\n",
       "\n",
       "    .dataframe tbody tr th {\n",
       "        vertical-align: top;\n",
       "    }\n",
       "\n",
       "    .dataframe thead th {\n",
       "        text-align: right;\n",
       "    }\n",
       "</style>\n",
       "<table border=\"1\" class=\"dataframe\">\n",
       "  <thead>\n",
       "    <tr style=\"text-align: right;\">\n",
       "      <th></th>\n",
       "      <th>New_cases</th>\n",
       "      <th>Cumulative_cases</th>\n",
       "      <th>New_deaths</th>\n",
       "      <th>Cumulative_deaths</th>\n",
       "    </tr>\n",
       "    <tr>\n",
       "      <th>Month</th>\n",
       "      <th></th>\n",
       "      <th></th>\n",
       "      <th></th>\n",
       "      <th></th>\n",
       "    </tr>\n",
       "  </thead>\n",
       "  <tbody>\n",
       "    <tr>\n",
       "      <th>1</th>\n",
       "      <td>5090.224064</td>\n",
       "      <td>609728.374045</td>\n",
       "      <td>31.413392</td>\n",
       "      <td>11117.407199</td>\n",
       "    </tr>\n",
       "    <tr>\n",
       "      <th>2</th>\n",
       "      <td>3477.553689</td>\n",
       "      <td>725082.895115</td>\n",
       "      <td>29.102891</td>\n",
       "      <td>11680.549202</td>\n",
       "    </tr>\n",
       "    <tr>\n",
       "      <th>3</th>\n",
       "      <td>2991.160470</td>\n",
       "      <td>822207.541371</td>\n",
       "      <td>23.017815</td>\n",
       "      <td>12545.868280</td>\n",
       "    </tr>\n",
       "    <tr>\n",
       "      <th>4</th>\n",
       "      <td>2332.696375</td>\n",
       "      <td>905785.886770</td>\n",
       "      <td>30.679473</td>\n",
       "      <td>13375.778390</td>\n",
       "    </tr>\n",
       "    <tr>\n",
       "      <th>5</th>\n",
       "      <td>1694.039168</td>\n",
       "      <td>727568.098653</td>\n",
       "      <td>30.846969</td>\n",
       "      <td>11902.119622</td>\n",
       "    </tr>\n",
       "    <tr>\n",
       "      <th>6</th>\n",
       "      <td>1107.529944</td>\n",
       "      <td>390839.797669</td>\n",
       "      <td>29.795410</td>\n",
       "      <td>9149.068079</td>\n",
       "    </tr>\n",
       "    <tr>\n",
       "      <th>7</th>\n",
       "      <td>1559.883406</td>\n",
       "      <td>430285.023852</td>\n",
       "      <td>30.925984</td>\n",
       "      <td>10040.815746</td>\n",
       "    </tr>\n",
       "    <tr>\n",
       "      <th>8</th>\n",
       "      <td>1921.092195</td>\n",
       "      <td>485891.224986</td>\n",
       "      <td>34.246720</td>\n",
       "      <td>11075.077023</td>\n",
       "    </tr>\n",
       "    <tr>\n",
       "      <th>9</th>\n",
       "      <td>1755.134675</td>\n",
       "      <td>543028.555862</td>\n",
       "      <td>30.086794</td>\n",
       "      <td>12072.090395</td>\n",
       "    </tr>\n",
       "    <tr>\n",
       "      <th>10</th>\n",
       "      <td>1761.122130</td>\n",
       "      <td>594308.796132</td>\n",
       "      <td>27.247950</td>\n",
       "      <td>12913.995421</td>\n",
       "    </tr>\n",
       "    <tr>\n",
       "      <th>11</th>\n",
       "      <td>2293.668573</td>\n",
       "      <td>656601.593573</td>\n",
       "      <td>35.286299</td>\n",
       "      <td>13860.958828</td>\n",
       "    </tr>\n",
       "    <tr>\n",
       "      <th>12</th>\n",
       "      <td>2991.514762</td>\n",
       "      <td>734839.945667</td>\n",
       "      <td>39.592332</td>\n",
       "      <td>15031.630331</td>\n",
       "    </tr>\n",
       "  </tbody>\n",
       "</table>\n",
       "</div>"
      ],
      "text/plain": [
       "         New_cases  Cumulative_cases  New_deaths  Cumulative_deaths\n",
       "Month                                                              \n",
       "1      5090.224064     609728.374045   31.413392       11117.407199\n",
       "2      3477.553689     725082.895115   29.102891       11680.549202\n",
       "3      2991.160470     822207.541371   23.017815       12545.868280\n",
       "4      2332.696375     905785.886770   30.679473       13375.778390\n",
       "5      1694.039168     727568.098653   30.846969       11902.119622\n",
       "6      1107.529944     390839.797669   29.795410        9149.068079\n",
       "7      1559.883406     430285.023852   30.925984       10040.815746\n",
       "8      1921.092195     485891.224986   34.246720       11075.077023\n",
       "9      1755.134675     543028.555862   30.086794       12072.090395\n",
       "10     1761.122130     594308.796132   27.247950       12913.995421\n",
       "11     2293.668573     656601.593573   35.286299       13860.958828\n",
       "12     2991.514762     734839.945667   39.592332       15031.630331"
      ]
     },
     "execution_count": 19,
     "metadata": {},
     "output_type": "execute_result"
    }
   ],
   "source": [
    "dd"
   ]
  },
  {
   "cell_type": "code",
   "execution_count": 23,
   "id": "7e4fe99c",
   "metadata": {},
   "outputs": [
    {
     "data": {
      "image/png": "[encoded data removed]",
      "text/plain": [
       "<Figure size 648x432 with 1 Axes>"
      ]
     },
     "metadata": {
      "needs_background": "light"
     },
     "output_type": "display_data"
    }
   ],
   "source": [
    "plt.figure(figsize=(9,6))\n",
    "plt.title('Month wise Analysis')\n",
    "plt.plot(dd.New_cases)\n",
    "plt.xlabel('Month Number')\n",
    "#plt.xticks(rotation=90)\n",
    "plt.ylabel('New Cases')\n",
    "plt.grid()"
   ]
  },
  {
   "cell_type": "code",
   "execution_count": 37,
   "id": "82286389",
   "metadata": {},
   "outputs": [
    {
     "data": {
      "image/png": "[encoded data removed]",
      "text/plain": [
       "<Figure size 648x432 with 1 Axes>"
      ]
     },
     "metadata": {
      "needs_background": "light"
     },
     "output_type": "display_data"
    }
   ],
   "source": [
    "\n",
    "plt.figure(figsize=(9,6))\n",
    "plt.plot(df.groupby(['Month']).mean()['Cumulative_deaths'])\n",
    "plt.title('Month wise Analysis of Covid related deaths')\n",
    "plt.xlabel('Month Number')\n",
    "#plt.xticks(rotation=90)\n",
    "plt.ylabel('Deaths')\n",
    "plt.grid()"
   ]
  },
  {
   "cell_type": "code",
   "execution_count": null,
   "id": "eaaa8d37",
   "metadata": {},
   "outputs": [],
   "source": []
  }
 ],
 "metadata": {
  "kernelspec": {
   "display_name": "Python 3 (ipykernel)",
   "language": "python",
   "name": "python3"
  },
  "language_info": {
   "codemirror_mode": {
    "name": "ipython",
    "version": 3
   },
   "file_extension": ".py",
   "mimetype": "text/x-python",
   "name": "python",
   "nbconvert_exporter": "python",
   "pygments_lexer": "ipython3",
   "version": "3.10.0"
  }
 },
 "nbformat": 4,
 "nbformat_minor": 5
}
